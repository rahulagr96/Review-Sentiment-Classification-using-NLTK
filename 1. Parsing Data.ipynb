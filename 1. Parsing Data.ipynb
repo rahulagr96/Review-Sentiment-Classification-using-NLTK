{
 "cells": [
  {
   "cell_type": "markdown",
   "metadata": {},
   "source": [
    "# Task 1. Data Collection"
   ]
  },
  {
   "cell_type": "markdown",
   "metadata": {},
   "source": [
    "Scraping data from complete set of web pages"
   ]
  },
  {
   "cell_type": "markdown",
   "metadata": {},
   "source": [
    "---"
   ]
  },
  {
   "cell_type": "code",
   "execution_count": 1,
   "metadata": {},
   "outputs": [
    {
     "data": {
      "application/javascript": [
       "\n",
       "            setTimeout(function() {\n",
       "                var nbb_cell_id = 1;\n",
       "                var nbb_unformatted_code = \"# importing modules\\nimport urllib.request\\nimport bs4\\nimport pandas as pd\\nimport re\\nfrom pathlib import Path\\n\\n%load_ext nb_black\";\n",
       "                var nbb_formatted_code = \"# importing modules\\nimport urllib.request\\nimport bs4\\nimport pandas as pd\\nimport re\\nfrom pathlib import Path\\n\\n%load_ext nb_black\";\n",
       "                var nbb_cells = Jupyter.notebook.get_cells();\n",
       "                for (var i = 0; i < nbb_cells.length; ++i) {\n",
       "                    if (nbb_cells[i].input_prompt_number == nbb_cell_id) {\n",
       "                        if (nbb_cells[i].get_text() == nbb_unformatted_code) {\n",
       "                             nbb_cells[i].set_text(nbb_formatted_code);\n",
       "                        }\n",
       "                        break;\n",
       "                    }\n",
       "                }\n",
       "            }, 500);\n",
       "            "
      ],
      "text/plain": [
       "<IPython.core.display.Javascript object>"
      ]
     },
     "metadata": {},
     "output_type": "display_data"
    }
   ],
   "source": [
    "# importing modules\n",
    "import urllib.request\n",
    "import bs4\n",
    "import pandas as pd\n",
    "import re\n",
    "from pathlib import Path\n",
    "\n",
    "%load_ext nb_black"
   ]
  },
  {
   "cell_type": "markdown",
   "metadata": {},
   "source": [
    "Checking and Creating directory structure if doesn't exist."
   ]
  },
  {
   "cell_type": "code",
   "execution_count": 2,
   "metadata": {},
   "outputs": [
    {
     "data": {
      "application/javascript": [
       "\n",
       "            setTimeout(function() {\n",
       "                var nbb_cell_id = 2;\n",
       "                var nbb_unformatted_code = \"dir_data = Path(\\\"data\\\")\\ndir_data.mkdir(parents=True, exist_ok=True)\";\n",
       "                var nbb_formatted_code = \"dir_data = Path(\\\"data\\\")\\ndir_data.mkdir(parents=True, exist_ok=True)\";\n",
       "                var nbb_cells = Jupyter.notebook.get_cells();\n",
       "                for (var i = 0; i < nbb_cells.length; ++i) {\n",
       "                    if (nbb_cells[i].input_prompt_number == nbb_cell_id) {\n",
       "                        if (nbb_cells[i].get_text() == nbb_unformatted_code) {\n",
       "                             nbb_cells[i].set_text(nbb_formatted_code);\n",
       "                        }\n",
       "                        break;\n",
       "                    }\n",
       "                }\n",
       "            }, 500);\n",
       "            "
      ],
      "text/plain": [
       "<IPython.core.display.Javascript object>"
      ]
     },
     "metadata": {},
     "output_type": "display_data"
    }
   ],
   "source": [
    "dir_data = Path(\"data\")\n",
    "dir_data.mkdir(parents=True, exist_ok=True)"
   ]
  },
  {
   "cell_type": "markdown",
   "metadata": {},
   "source": [
    "Fetching the url using library and decoding it to 'html' variable"
   ]
  },
  {
   "cell_type": "code",
   "execution_count": 3,
   "metadata": {},
   "outputs": [
    {
     "data": {
      "application/javascript": [
       "\n",
       "            setTimeout(function() {\n",
       "                var nbb_cell_id = 3;\n",
       "                var nbb_unformatted_code = \"raw_link = \\\"http://mlg.ucd.ie/modules/python/assign2/21200098\\\"\\nresponse = urllib.request.urlopen(raw_link)\\nhtml = response.read().decode()\";\n",
       "                var nbb_formatted_code = \"raw_link = \\\"http://mlg.ucd.ie/modules/python/assign2/21200098\\\"\\nresponse = urllib.request.urlopen(raw_link)\\nhtml = response.read().decode()\";\n",
       "                var nbb_cells = Jupyter.notebook.get_cells();\n",
       "                for (var i = 0; i < nbb_cells.length; ++i) {\n",
       "                    if (nbb_cells[i].input_prompt_number == nbb_cell_id) {\n",
       "                        if (nbb_cells[i].get_text() == nbb_unformatted_code) {\n",
       "                             nbb_cells[i].set_text(nbb_formatted_code);\n",
       "                        }\n",
       "                        break;\n",
       "                    }\n",
       "                }\n",
       "            }, 500);\n",
       "            "
      ],
      "text/plain": [
       "<IPython.core.display.Javascript object>"
      ]
     },
     "metadata": {},
     "output_type": "display_data"
    }
   ],
   "source": [
    "raw_link = \"http://mlg.ucd.ie/modules/python/assign2/21200098\"\n",
    "response = urllib.request.urlopen(raw_link)\n",
    "html = response.read().decode()"
   ]
  },
  {
   "cell_type": "markdown",
   "metadata": {},
   "source": [
    "Creating a function to fetch the links"
   ]
  },
  {
   "cell_type": "code",
   "execution_count": 4,
   "metadata": {},
   "outputs": [
    {
     "data": {
      "application/javascript": [
       "\n",
       "            setTimeout(function() {\n",
       "                var nbb_cell_id = 4;\n",
       "                var nbb_unformatted_code = \"def get_links(mytag):\\n    a_links = (mytag.find_next(\\\"div\\\", class_=\\\"list-group\\\")).findAll(\\\"a\\\")\\n    return [a[\\\"href\\\"] for a in a_links]\";\n",
       "                var nbb_formatted_code = \"def get_links(mytag):\\n    a_links = (mytag.find_next(\\\"div\\\", class_=\\\"list-group\\\")).findAll(\\\"a\\\")\\n    return [a[\\\"href\\\"] for a in a_links]\";\n",
       "                var nbb_cells = Jupyter.notebook.get_cells();\n",
       "                for (var i = 0; i < nbb_cells.length; ++i) {\n",
       "                    if (nbb_cells[i].input_prompt_number == nbb_cell_id) {\n",
       "                        if (nbb_cells[i].get_text() == nbb_unformatted_code) {\n",
       "                             nbb_cells[i].set_text(nbb_formatted_code);\n",
       "                        }\n",
       "                        break;\n",
       "                    }\n",
       "                }\n",
       "            }, 500);\n",
       "            "
      ],
      "text/plain": [
       "<IPython.core.display.Javascript object>"
      ]
     },
     "metadata": {},
     "output_type": "display_data"
    }
   ],
   "source": [
    "def get_links(mytag):\n",
    "    a_links = (mytag.find_next(\"div\", class_=\"list-group\")).findAll(\"a\")\n",
    "    return [a[\"href\"] for a in a_links]"
   ]
  },
  {
   "cell_type": "markdown",
   "metadata": {},
   "source": [
    "Creating a year_dict which contains year number with a list of all the monthly links"
   ]
  },
  {
   "cell_type": "code",
   "execution_count": 5,
   "metadata": {},
   "outputs": [
    {
     "data": {
      "application/javascript": [
       "\n",
       "            setTimeout(function() {\n",
       "                var nbb_cell_id = 5;\n",
       "                var nbb_unformatted_code = \"parser = bs4.BeautifulSoup(html, \\\"html.parser\\\")\\nyears_list = parser.findAll(\\\"div\\\", class_=\\\"list-title\\\")\\nyear_dict={}\\nfor i in range(len(years_list)):\\n    year=(re.findall(r\\\"\\\\d+\\\", years_list[i].get_text()))[0]\\n    year_dict[year] = get_links(years_list[i])\";\n",
       "                var nbb_formatted_code = \"parser = bs4.BeautifulSoup(html, \\\"html.parser\\\")\\nyears_list = parser.findAll(\\\"div\\\", class_=\\\"list-title\\\")\\nyear_dict = {}\\nfor i in range(len(years_list)):\\n    year = (re.findall(r\\\"\\\\d+\\\", years_list[i].get_text()))[0]\\n    year_dict[year] = get_links(years_list[i])\";\n",
       "                var nbb_cells = Jupyter.notebook.get_cells();\n",
       "                for (var i = 0; i < nbb_cells.length; ++i) {\n",
       "                    if (nbb_cells[i].input_prompt_number == nbb_cell_id) {\n",
       "                        if (nbb_cells[i].get_text() == nbb_unformatted_code) {\n",
       "                             nbb_cells[i].set_text(nbb_formatted_code);\n",
       "                        }\n",
       "                        break;\n",
       "                    }\n",
       "                }\n",
       "            }, 500);\n",
       "            "
      ],
      "text/plain": [
       "<IPython.core.display.Javascript object>"
      ]
     },
     "metadata": {},
     "output_type": "display_data"
    }
   ],
   "source": [
    "parser = bs4.BeautifulSoup(html, \"html.parser\")\n",
    "years_list = parser.findAll(\"div\", class_=\"list-title\")\n",
    "year_dict = {}\n",
    "for i in range(len(years_list)):\n",
    "    year = (re.findall(r\"\\d+\", years_list[i].get_text()))[0]\n",
    "    year_dict[year] = get_links(years_list[i])"
   ]
  },
  {
   "cell_type": "markdown",
   "metadata": {},
   "source": [
    "Fetching data from website and storing it into df_dict dictionary"
   ]
  },
  {
   "cell_type": "code",
   "execution_count": 6,
   "metadata": {},
   "outputs": [
    {
     "data": {
      "application/javascript": [
       "\n",
       "            setTimeout(function() {\n",
       "                var nbb_cell_id = 6;\n",
       "                var nbb_unformatted_code = \"df_dict = {\\\"year\\\": [], \\\"title\\\": [], \\\"metadata\\\": [], \\\"star_rating\\\": [], \\\"review\\\": []}\\nfor year in year_dict:\\n    for link in year_dict[year]:\\n        link = f\\\"{raw_link}/{link}\\\"\\n        response = urllib.request.urlopen(link)\\n        html = response.read().decode()\\n        parser = bs4.BeautifulSoup(html, \\\"html.parser\\\")\\n        total_pages = int((parser.find(\\\"h4\\\", class_=\\\"results\\\").get_text())[-1])\\n        for i in range(1, total_pages + 1):\\n            if i>1:\\n                suffix = link.replace(\\\".html\\\", \\\"\\\")\\n                suffix = f\\\"{suffix[:-1]}{i}\\\"\\n                link = f\\\"{suffix}.html\\\"\\n                response = urllib.request.urlopen(link)\\n                html = response.read().decode()\\n                parser = bs4.BeautifulSoup(html, \\\"html.parser\\\")\\n            for match in parser.find_all(\\\"div\\\", class_=[\\\"review\\\", \\\"review-alt\\\"]):\\n                df_dict[\\\"year\\\"].append(year)\\n                title_text = match.find(\\\"h5\\\").get_text().replace(\\\"\\\\u00a0\\\", \\\"\\\")\\n                df_dict[\\\"title\\\"].append(title_text)\\n                metadata_text=match.findAll(\\\"p\\\", class_=\\\"metadata\\\")[1].get_text()\\n                df_dict[\\\"metadata\\\"].append(metadata_text)\\n                rating_text=((match.find(\\\"h5\\\")).find(\\\"img\\\"))[\\\"alt\\\"].replace(\\\"-star\\\", \\\"\\\")\\n                df_dict[\\\"star_rating\\\"].append(rating_text)\\n                review_text=match.find(\\\"p\\\", class_=\\\"review-body\\\").get_text()\\n                df_dict[\\\"review\\\"].append(review_text)\";\n",
       "                var nbb_formatted_code = \"df_dict = {\\\"year\\\": [], \\\"title\\\": [], \\\"metadata\\\": [], \\\"star_rating\\\": [], \\\"review\\\": []}\\nfor year in year_dict:\\n    for link in year_dict[year]:\\n        link = f\\\"{raw_link}/{link}\\\"\\n        response = urllib.request.urlopen(link)\\n        html = response.read().decode()\\n        parser = bs4.BeautifulSoup(html, \\\"html.parser\\\")\\n        total_pages = int((parser.find(\\\"h4\\\", class_=\\\"results\\\").get_text())[-1])\\n        for i in range(1, total_pages + 1):\\n            if i > 1:\\n                suffix = link.replace(\\\".html\\\", \\\"\\\")\\n                suffix = f\\\"{suffix[:-1]}{i}\\\"\\n                link = f\\\"{suffix}.html\\\"\\n                response = urllib.request.urlopen(link)\\n                html = response.read().decode()\\n                parser = bs4.BeautifulSoup(html, \\\"html.parser\\\")\\n            for match in parser.find_all(\\\"div\\\", class_=[\\\"review\\\", \\\"review-alt\\\"]):\\n                df_dict[\\\"year\\\"].append(year)\\n                title_text = match.find(\\\"h5\\\").get_text().replace(\\\"\\\\u00a0\\\", \\\"\\\")\\n                df_dict[\\\"title\\\"].append(title_text)\\n                metadata_text = match.findAll(\\\"p\\\", class_=\\\"metadata\\\")[1].get_text()\\n                df_dict[\\\"metadata\\\"].append(metadata_text)\\n                rating_text = ((match.find(\\\"h5\\\")).find(\\\"img\\\"))[\\\"alt\\\"].replace(\\n                    \\\"-star\\\", \\\"\\\"\\n                )\\n                df_dict[\\\"star_rating\\\"].append(rating_text)\\n                review_text = match.find(\\\"p\\\", class_=\\\"review-body\\\").get_text()\\n                df_dict[\\\"review\\\"].append(review_text)\";\n",
       "                var nbb_cells = Jupyter.notebook.get_cells();\n",
       "                for (var i = 0; i < nbb_cells.length; ++i) {\n",
       "                    if (nbb_cells[i].input_prompt_number == nbb_cell_id) {\n",
       "                        if (nbb_cells[i].get_text() == nbb_unformatted_code) {\n",
       "                             nbb_cells[i].set_text(nbb_formatted_code);\n",
       "                        }\n",
       "                        break;\n",
       "                    }\n",
       "                }\n",
       "            }, 500);\n",
       "            "
      ],
      "text/plain": [
       "<IPython.core.display.Javascript object>"
      ]
     },
     "metadata": {},
     "output_type": "display_data"
    }
   ],
   "source": [
    "df_dict = {\"year\": [], \"title\": [], \"metadata\": [], \"star_rating\": [], \"review\": []}\n",
    "for year in year_dict:\n",
    "    for link in year_dict[year]:\n",
    "        link = f\"{raw_link}/{link}\"\n",
    "        response = urllib.request.urlopen(link)\n",
    "        html = response.read().decode()\n",
    "        parser = bs4.BeautifulSoup(html, \"html.parser\")\n",
    "        total_pages = int((parser.find(\"h4\", class_=\"results\").get_text())[-1])\n",
    "        for i in range(1, total_pages + 1):\n",
    "            if i>1:\n",
    "                suffix = link.replace(\".html\", \"\")\n",
    "                suffix = f\"{suffix[:-1]}{i}\"\n",
    "                link = f\"{suffix}.html\"\n",
    "                response = urllib.request.urlopen(link)\n",
    "                html = response.read().decode()\n",
    "                parser = bs4.BeautifulSoup(html, \"html.parser\")\n",
    "            for match in parser.find_all(\"div\", class_=[\"review\", \"review-alt\"]):\n",
    "                df_dict[\"year\"].append(year)\n",
    "                title_text = match.find(\"h5\").get_text().replace(\"\\u00a0\", \"\")\n",
    "                df_dict[\"title\"].append(title_text)\n",
    "                metadata_text=match.findAll(\"p\", class_=\"metadata\")[1].get_text()\n",
    "                df_dict[\"metadata\"].append(metadata_text)\n",
    "                rating_text=((match.find(\"h5\")).find(\"img\"))[\"alt\"].replace(\"-star\", \"\")\n",
    "                df_dict[\"star_rating\"].append(rating_text)\n",
    "                review_text=match.find(\"p\", class_=\"review-body\").get_text()\n",
    "                df_dict[\"review\"].append(review_text)\n"
   ]
  },
  {
   "cell_type": "markdown",
   "metadata": {},
   "source": [
    "Saving the data to json format"
   ]
  },
  {
   "cell_type": "code",
   "execution_count": 7,
   "metadata": {},
   "outputs": [
    {
     "name": "stdout",
     "output_type": "stream",
     "text": [
      "Writing data\\full_data.json\n"
     ]
    },
    {
     "data": {
      "application/javascript": [
       "\n",
       "            setTimeout(function() {\n",
       "                var nbb_cell_id = 7;\n",
       "                var nbb_unformatted_code = \"df = pd.DataFrame.from_dict(df_dict, orient=\\\"index\\\").transpose()\\ndf[\\\"year\\\"] = pd.to_numeric(df[\\\"year\\\"])\\ndf[\\\"star_rating\\\"] = pd.to_numeric(df[\\\"star_rating\\\"])\\nfname = \\\"full_data.json\\\"\\nout_path = dir_data / fname\\nprint(f\\\"Writing {out_path}\\\")\\ndf.to_json(out_path, orient=\\\"index\\\", indent=4)\";\n",
       "                var nbb_formatted_code = \"df = pd.DataFrame.from_dict(df_dict, orient=\\\"index\\\").transpose()\\ndf[\\\"year\\\"] = pd.to_numeric(df[\\\"year\\\"])\\ndf[\\\"star_rating\\\"] = pd.to_numeric(df[\\\"star_rating\\\"])\\nfname = \\\"full_data.json\\\"\\nout_path = dir_data / fname\\nprint(f\\\"Writing {out_path}\\\")\\ndf.to_json(out_path, orient=\\\"index\\\", indent=4)\";\n",
       "                var nbb_cells = Jupyter.notebook.get_cells();\n",
       "                for (var i = 0; i < nbb_cells.length; ++i) {\n",
       "                    if (nbb_cells[i].input_prompt_number == nbb_cell_id) {\n",
       "                        if (nbb_cells[i].get_text() == nbb_unformatted_code) {\n",
       "                             nbb_cells[i].set_text(nbb_formatted_code);\n",
       "                        }\n",
       "                        break;\n",
       "                    }\n",
       "                }\n",
       "            }, 500);\n",
       "            "
      ],
      "text/plain": [
       "<IPython.core.display.Javascript object>"
      ]
     },
     "metadata": {},
     "output_type": "display_data"
    }
   ],
   "source": [
    "df = pd.DataFrame.from_dict(df_dict, orient=\"index\").transpose()\n",
    "df[\"year\"] = pd.to_numeric(df[\"year\"])\n",
    "df[\"star_rating\"] = pd.to_numeric(df[\"star_rating\"])\n",
    "fname = \"full_data.json\"\n",
    "out_path = dir_data / fname\n",
    "print(f\"Writing {out_path}\")\n",
    "df.to_json(out_path, orient=\"index\", indent=4)"
   ]
  },
  {
   "cell_type": "code",
   "execution_count": 8,
   "metadata": {},
   "outputs": [
    {
     "data": {
      "text/plain": [
       "year            int64\n",
       "title          object\n",
       "metadata       object\n",
       "star_rating     int64\n",
       "review         object\n",
       "dtype: object"
      ]
     },
     "execution_count": 8,
     "metadata": {},
     "output_type": "execute_result"
    },
    {
     "data": {
      "application/javascript": [
       "\n",
       "            setTimeout(function() {\n",
       "                var nbb_cell_id = 8;\n",
       "                var nbb_unformatted_code = \"df.dtypes\";\n",
       "                var nbb_formatted_code = \"df.dtypes\";\n",
       "                var nbb_cells = Jupyter.notebook.get_cells();\n",
       "                for (var i = 0; i < nbb_cells.length; ++i) {\n",
       "                    if (nbb_cells[i].input_prompt_number == nbb_cell_id) {\n",
       "                        if (nbb_cells[i].get_text() == nbb_unformatted_code) {\n",
       "                             nbb_cells[i].set_text(nbb_formatted_code);\n",
       "                        }\n",
       "                        break;\n",
       "                    }\n",
       "                }\n",
       "            }, 500);\n",
       "            "
      ],
      "text/plain": [
       "<IPython.core.display.Javascript object>"
      ]
     },
     "metadata": {},
     "output_type": "display_data"
    }
   ],
   "source": [
    "df.dtypes"
   ]
  },
  {
   "cell_type": "code",
   "execution_count": 9,
   "metadata": {},
   "outputs": [
    {
     "name": "stdout",
     "output_type": "stream",
     "text": [
      "No missing values found\n"
     ]
    },
    {
     "data": {
      "text/plain": [
       "<AxesSubplot:>"
      ]
     },
     "execution_count": 9,
     "metadata": {},
     "output_type": "execute_result"
    },
    {
     "data": {
      "image/png": "[encoded data removed]",
      "text/plain": [
       "<Figure size 1800x720 with 3 Axes>"
      ]
     },
     "metadata": {
      "needs_background": "light"
     },
     "output_type": "display_data"
    },
    {
     "data": {
      "application/javascript": [
       "\n",
       "            setTimeout(function() {\n",
       "                var nbb_cell_id = 9;\n",
       "                var nbb_unformatted_code = \"import missingno as msno\\nmissing_counts = df.isnull().sum()\\nmissing_counts = missing_counts[missing_counts > 0]\\nif len(missing_counts) == 0:\\n    print(\\\"No missing values found\\\")\\nelse:\\n    print(f'Missing count: {missing_counts}')\\nmsno.bar(df)\";\n",
       "                var nbb_formatted_code = \"import missingno as msno\\n\\nmissing_counts = df.isnull().sum()\\nmissing_counts = missing_counts[missing_counts > 0]\\nif len(missing_counts) == 0:\\n    print(\\\"No missing values found\\\")\\nelse:\\n    print(f\\\"Missing count: {missing_counts}\\\")\\nmsno.bar(df)\";\n",
       "                var nbb_cells = Jupyter.notebook.get_cells();\n",
       "                for (var i = 0; i < nbb_cells.length; ++i) {\n",
       "                    if (nbb_cells[i].input_prompt_number == nbb_cell_id) {\n",
       "                        if (nbb_cells[i].get_text() == nbb_unformatted_code) {\n",
       "                             nbb_cells[i].set_text(nbb_formatted_code);\n",
       "                        }\n",
       "                        break;\n",
       "                    }\n",
       "                }\n",
       "            }, 500);\n",
       "            "
      ],
      "text/plain": [
       "<IPython.core.display.Javascript object>"
      ]
     },
     "metadata": {},
     "output_type": "display_data"
    }
   ],
   "source": [
    "import missingno as msno\n",
    "\n",
    "missing_counts = df.isnull().sum()\n",
    "missing_counts = missing_counts[missing_counts > 0]\n",
    "if len(missing_counts) == 0:\n",
    "    print(\"No missing values found\")\n",
    "else:\n",
    "    print(f\"Missing count: {missing_counts}\")\n",
    "msno.bar(df)"
   ]
  }
 ],
 "metadata": {
  "interpreter": {
   "hash": "1d3e762bfd9c3a6dd6c5695f738eb16948cd7fcbac9eec66b1e12976edfcee91"
  },
  "kernelspec": {
   "display_name": "Python 3 (ipykernel)",
   "language": "python",
   "name": "python3"
  },
  "language_info": {
   "codemirror_mode": {
    "name": "ipython",
    "version": 3
   },
   "file_extension": ".py",
   "mimetype": "text/x-python",
   "name": "python",
   "nbconvert_exporter": "python",
   "pygments_lexer": "ipython3",
   "version": "3.10.2"
  }
 },
 "nbformat": 4,
 "nbformat_minor": 2
}
